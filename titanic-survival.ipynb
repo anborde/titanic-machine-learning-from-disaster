{
 "cells": [
  {
   "cell_type": "markdown",
   "metadata": {
    "collapsed": true
   },
   "source": [
    "# Titanic: Machine Learning from Disaster"
   ]
  },
  {
   "cell_type": "markdown",
   "metadata": {},
   "source": [
    "## Importing Packages"
   ]
  },
  {
   "cell_type": "code",
   "execution_count": 72,
   "metadata": {},
   "outputs": [],
   "source": [
    "import pandas as pd\n",
    "import matplotlib.pyplot as plt\n",
    "import random\n",
    "import math\n",
    "\n",
    "from sklearn.model_selection import train_test_split\n",
    "from sklearn.tree import DecisionTreeClassifier\n",
    "from sklearn.neighbors import KNeighborsClassifier\n",
    "from sklearn.ensemble import RandomForestClassifier\n",
    "from sklearn.svm import SVC\n",
    "\n",
    "\n"
   ]
  },
  {
   "cell_type": "markdown",
   "metadata": {},
   "source": [
    "## Reading training and testing data"
   ]
  },
  {
   "cell_type": "code",
   "execution_count": 95,
   "metadata": {},
   "outputs": [
    {
     "name": "stdout",
     "output_type": "stream",
     "text": [
      "['PassengerId' 'Survived' 'Pclass' 'Name' 'Sex' 'Age' 'SibSp' 'Parch'\n 'Ticket' 'Fare' 'Cabin' 'Embarked']\n"
     ]
    }
   ],
   "source": [
    "train = pd.read_csv('train.csv', na_values=['NaN'])\n",
    "test = pd.read_csv('test.csv', na_values=['NaN'])\n",
    "\n",
    "# Printing Data Columns\n",
    "print(train.columns.values)"
   ]
  },
  {
   "cell_type": "markdown",
   "metadata": {},
   "source": [
    "## Analyzing The Data"
   ]
  },
  {
   "cell_type": "code",
   "execution_count": 97,
   "metadata": {},
   "outputs": [
    {
     "name": "stdout",
     "output_type": "stream",
     "text": [
      "<class 'pandas.core.frame.DataFrame'>\nRangeIndex: 891 entries, 0 to 890\nData columns (total 12 columns):\nPassengerId    891 non-null int64\nSurvived       891 non-null int64\nPclass         891 non-null int64\nName           891 non-null object\nSex            891 non-null object\nAge            714 non-null float64\nSibSp          891 non-null int64\nParch          891 non-null int64\nTicket         891 non-null object\nFare           891 non-null float64\nCabin          204 non-null object\nEmbarked       889 non-null object\ndtypes: float64(2), int64(5), object(5)\nmemory usage: 83.6+ KB\nNone\n"
     ]
    }
   ],
   "source": [
    "# Printing Data Info\n",
    "print(train.info())\n"
   ]
  },
  {
   "cell_type": "code",
   "execution_count": 98,
   "metadata": {},
   "outputs": [
    {
     "name": "stdout",
     "output_type": "stream",
     "text": [
      "    PassengerId  Survived  Pclass                                  Name  \\\n11           12         1       1              Bonnell, Miss. Elizabeth   \n12           13         0       3        Saundercock, Mr. William Henry   \n13           14         0       3           Andersson, Mr. Anders Johan   \n14           15         0       3  Vestrom, Miss. Hulda Amanda Adolfina   \n15           16         1       2      Hewlett, Mrs. (Mary D Kingcome)    \n\n       Sex   Age  SibSp  Parch     Ticket     Fare Cabin Embarked  \n11  female  58.0      0      0     113783  26.5500  C103        S  \n12    male  20.0      0      0  A/5. 2151   8.0500   NaN        S  \n13    male  39.0      1      5     347082  31.2750   NaN        S  \n14  female  14.0      0      0     350406   7.8542   NaN        S  \n15  female  55.0      0      0     248706  16.0000   NaN        S  \n"
     ]
    }
   ],
   "source": [
    "# Printing sample data\n",
    "print(train.loc[11:15])"
   ]
  },
  {
   "cell_type": "code",
   "execution_count": 99,
   "metadata": {
    "collapsed": true
   },
   "outputs": [
    {
     "name": "stdout",
     "output_type": "stream",
     "text": [
      "                            Name   Sex Ticket        Cabin Embarked\ncount                        891   891    891          204      889\nunique                       891     2    681          147        3\ntop     Daly, Mr. Eugene Patrick  male   1601  C23 C25 C27        S\nfreq                           1   577      7            4      644\n\n\n\n       PassengerId    Survived      Pclass         Age       SibSp  \\\ncount   891.000000  891.000000  891.000000  714.000000  891.000000   \nmean    446.000000    0.383838    2.308642   29.699118    0.523008   \nstd     257.353842    0.486592    0.836071   14.526497    1.102743   \nmin       1.000000    0.000000    1.000000    0.420000    0.000000   \n25%     223.500000    0.000000    2.000000   20.125000    0.000000   \n50%     446.000000    0.000000    3.000000   28.000000    0.000000   \n75%     668.500000    1.000000    3.000000   38.000000    1.000000   \nmax     891.000000    1.000000    3.000000   80.000000    8.000000   \n\n            Parch        Fare  \ncount  891.000000  891.000000  \nmean     0.381594   32.204208  \nstd      0.806057   49.693429  \nmin      0.000000    0.000000  \n25%      0.000000    7.910400  \n50%      0.000000   14.454200  \n75%      0.000000   31.000000  \nmax      6.000000  512.329200  \n"
     ]
    }
   ],
   "source": [
    "# Printing Description of the dataset\n",
    "print(train.describe(include=['O']))\n",
    "\n",
    "print(\"\\n\\n\")\n",
    "print(train.describe())"
   ]
  },
  {
   "cell_type": "code",
   "execution_count": 100,
   "metadata": {},
   "outputs": [
    {
     "name": "stdout",
     "output_type": "stream",
     "text": [
      "PassengerId      0\nSurvived         0\nPclass           0\nName             0\nSex              0\nAge            177\nSibSp            0\nParch            0\nTicket           0\nFare             0\nCabin          687\nEmbarked         2\ndtype: int64\n"
     ]
    }
   ],
   "source": [
    "# Printing number of null values in each column\n",
    "print(train.isnull().sum())"
   ]
  },
  {
   "cell_type": "markdown",
   "metadata": {},
   "source": [
    "- From the above data we can categorize the features into following categories:\n",
    "\n",
    "- **Numerical**\n",
    "\t- Age\t\n",
    "\t- SibSp\n",
    "\t- Parch\n",
    "\t- Fare\n",
    "\n",
    "- **Categorical**\n",
    "\t- Pclass: 1/2/3\n",
    "\t- Sex: male/female\n",
    "\t- Embarked: S/C/Q\n",
    "\t- Cabin: 147 Values\n",
    "\n",
    "- Name, PassengerId are unique for every entry and hence cannot be a decisive factor in influencing the survival status.\n",
    "- Also ticket has high number of unique values and logically ticket number cannot influence the survival status. Though the ticket number can be helpful in determining the Class of travel but information is already available through the Pclass column.\n",
    "- Though Cabin feature can contribute to determine the survival status, but a large amount records have the Cabin feature as null which could corrupt our training process, hence we need to neglect the cabin feature.\n",
    "- Though Age also have around 1/8th values as null but considering the logical fact that age can influence the survival status we would handle this anomaly in a different way.\n",
    "- Hence, dropping the columns name, passengerid, cabin and ticket from the dataset"
   ]
  },
  {
   "cell_type": "markdown",
   "metadata": {},
   "source": [
    "## Removing Unwanted Features As Per Above Discussion"
   ]
  },
  {
   "cell_type": "code",
   "execution_count": 101,
   "metadata": {},
   "outputs": [
    {
     "data": {
      "text/html": [
       "<div>\n",
       "<style>\n",
       "    .dataframe thead tr:only-child th {\n",
       "        text-align: right;\n",
       "    }\n",
       "\n",
       "    .dataframe thead th {\n",
       "        text-align: left;\n",
       "    }\n",
       "\n",
       "    .dataframe tbody tr th {\n",
       "        vertical-align: top;\n",
       "    }\n",
       "</style>\n",
       "<table border=\"1\" class=\"dataframe\">\n",
       "  <thead>\n",
       "    <tr style=\"text-align: right;\">\n",
       "      <th></th>\n",
       "      <th>Survived</th>\n",
       "      <th>Pclass</th>\n",
       "      <th>Sex</th>\n",
       "      <th>Age</th>\n",
       "      <th>SibSp</th>\n",
       "      <th>Parch</th>\n",
       "      <th>Fare</th>\n",
       "      <th>Embarked</th>\n",
       "    </tr>\n",
       "  </thead>\n",
       "  <tbody>\n",
       "    <tr>\n",
       "      <th>886</th>\n",
       "      <td>0</td>\n",
       "      <td>2</td>\n",
       "      <td>male</td>\n",
       "      <td>27.0</td>\n",
       "      <td>0</td>\n",
       "      <td>0</td>\n",
       "      <td>13.00</td>\n",
       "      <td>S</td>\n",
       "    </tr>\n",
       "    <tr>\n",
       "      <th>887</th>\n",
       "      <td>1</td>\n",
       "      <td>1</td>\n",
       "      <td>female</td>\n",
       "      <td>19.0</td>\n",
       "      <td>0</td>\n",
       "      <td>0</td>\n",
       "      <td>30.00</td>\n",
       "      <td>S</td>\n",
       "    </tr>\n",
       "    <tr>\n",
       "      <th>888</th>\n",
       "      <td>0</td>\n",
       "      <td>3</td>\n",
       "      <td>female</td>\n",
       "      <td>NaN</td>\n",
       "      <td>1</td>\n",
       "      <td>2</td>\n",
       "      <td>23.45</td>\n",
       "      <td>S</td>\n",
       "    </tr>\n",
       "    <tr>\n",
       "      <th>889</th>\n",
       "      <td>1</td>\n",
       "      <td>1</td>\n",
       "      <td>male</td>\n",
       "      <td>26.0</td>\n",
       "      <td>0</td>\n",
       "      <td>0</td>\n",
       "      <td>30.00</td>\n",
       "      <td>C</td>\n",
       "    </tr>\n",
       "    <tr>\n",
       "      <th>890</th>\n",
       "      <td>0</td>\n",
       "      <td>3</td>\n",
       "      <td>male</td>\n",
       "      <td>32.0</td>\n",
       "      <td>0</td>\n",
       "      <td>0</td>\n",
       "      <td>7.75</td>\n",
       "      <td>Q</td>\n",
       "    </tr>\n",
       "  </tbody>\n",
       "</table>\n",
       "</div>"
      ],
      "text/plain": [
       "<div>\n",
       "<style>\n",
       "    .dataframe thead tr:only-child th {\n",
       "        text-align: right;\n",
       "    }\n",
       "\n",
       "    .dataframe thead th {\n",
       "        text-align: left;\n",
       "    }\n",
       "\n",
       "    .dataframe tbody tr th {\n",
       "        vertical-align: top;\n",
       "    }\n",
       "</style>\n",
       "<table border=\"1\" class=\"dataframe\">\n",
       "  <thead>\n",
       "    <tr style=\"text-align: right;\">\n",
       "      <th></th>\n",
       "      <th>Survived</th>\n",
       "      <th>Pclass</th>\n",
       "      <th>Sex</th>\n",
       "      <th>Age</th>\n",
       "      <th>SibSp</th>\n",
       "      <th>Parch</th>\n",
       "      <th>Fare</th>\n",
       "      <th>Embarked</th>\n",
       "    </tr>\n",
       "  </thead>\n",
       "  <tbody>\n",
       "    <tr>\n",
       "      <th>886</th>\n",
       "      <td>0</td>\n",
       "      <td>2</td>\n",
       "      <td>male</td>\n",
       "      <td>27.0</td>\n",
       "      <td>0</td>\n",
       "      <td>0</td>\n",
       "      <td>13.00</td>\n",
       "      <td>S</td>\n",
       "    </tr>\n",
       "    <tr>\n",
       "      <th>887</th>\n",
       "      <td>1</td>\n",
       "      <td>1</td>\n",
       "      <td>female</td>\n",
       "      <td>19.0</td>\n",
       "      <td>0</td>\n",
       "      <td>0</td>\n",
       "      <td>30.00</td>\n",
       "      <td>S</td>\n",
       "    </tr>\n",
       "    <tr>\n",
       "      <th>888</th>\n",
       "      <td>0</td>\n",
       "      <td>3</td>\n",
       "      <td>female</td>\n",
       "      <td>NaN</td>\n",
       "      <td>1</td>\n",
       "      <td>2</td>\n",
       "      <td>23.45</td>\n",
       "      <td>S</td>\n",
       "    </tr>\n",
       "    <tr>\n",
       "      <th>889</th>\n",
       "      <td>1</td>\n",
       "      <td>1</td>\n",
       "      <td>male</td>\n",
       "      <td>26.0</td>\n",
       "      <td>0</td>\n",
       "      <td>0</td>\n",
       "      <td>30.00</td>\n",
       "      <td>C</td>\n",
       "    </tr>\n",
       "    <tr>\n",
       "      <th>890</th>\n",
       "      <td>0</td>\n",
       "      <td>3</td>\n",
       "      <td>male</td>\n",
       "      <td>32.0</td>\n",
       "      <td>0</td>\n",
       "      <td>0</td>\n",
       "      <td>7.75</td>\n",
       "      <td>Q</td>\n",
       "    </tr>\n",
       "  </tbody>\n",
       "</table>\n",
       "</div>"
      ]
     },
     "execution_count": 101,
     "metadata": {},
     "output_type": "execute_result"
    }
   ],
   "source": [
    "train.drop(['PassengerId', 'Name', 'Cabin', 'Ticket'], axis=1, inplace=True)\n",
    "train.tail()"
   ]
  },
  {
   "cell_type": "markdown",
   "metadata": {},
   "source": [
    "## Analyzing Relation Between Survival Status and the Features\n",
    "\n",
    "- Now we will compare the Survived Column data with other Columns by using neccesary diagrams or statistics"
   ]
  },
  {
   "cell_type": "code",
   "execution_count": 104,
   "metadata": {
    "collapsed": false
   },
   "outputs": [
    {
     "name": "stderr",
     "output_type": "stream",
     "text": [
      "C:\\Users\\Admin\\AppData\\Local\\Programs\\Python\\Python36\\lib\\site-packages\\numpy\\core\\fromnumeric.py:57: FutureWarning: reshape is deprecated and will raise in a subsequent release. Please use .values.reshape(...) instead\n  return getattr(obj, method)(*args, **kwds)\n"
     ]
    },
    {
     "data": {
      "image/png": "[encoded data removed]",
      "text/plain": [
       "<matplotlib.figure.Figure at 0x1e994805080>"
      ]
     },
     "metadata": {},
     "output_type": "display_data"
    }
   ],
   "source": [
    "plt.hist([train[train['Survived'] == 1]['Age'].dropna(), train[train['Survived'] == 0]['Age'].dropna()], \n",
    "         color=['b', 'r'],\n",
    "         label=['Survived', 'Not Survived'],\n",
    "         histtype='bar', \n",
    "         stacked=False)\n",
    "plt.title(\"Age & Survival\")\n",
    "plt.legend()\n",
    "plt.show()"
   ]
  },
  {
   "cell_type": "markdown",
   "metadata": {},
   "source": [
    "- In the above diagram we have made a comparative study of age and survival status, blue bars indicate survived passengers and red bars indicate the unfortunate ones.\n",
    "- It is clear that passengers below the age of 10 had a higher chance of survival compared to other ages.\n",
    "- Hence, survival status is dependent on the age of the passenger.\n",
    "\n",
    "- In order to deal with missing values in Age column, the only way is to initialize with a random value between minimum and maximum age."
   ]
  },
  {
   "cell_type": "markdown",
   "metadata": {},
   "source": [
    "## Implementing above points"
   ]
  },
  {
   "cell_type": "code",
   "execution_count": 105,
   "metadata": {},
   "outputs": [],
   "source": [
    "min_age = (int)(min(train['Age'].dropna().values))\n",
    "max_age = (int)(max(train['Age'].dropna().values))\n",
    "\n",
    "# Eliminating NaN values from Age column\n",
    "for i,row in train.iterrows():\n",
    "    if math.isnan(row['Age']):\n",
    "        train.set_value(i, 'Age', random.randint(min_age, max_age))\n",
    "\n",
    "\n",
    "# Discretizing Age\n",
    "# Finding ranges for Fare\n",
    "cuts = pd.qcut(train['Age'], 5)\n",
    "a = pd.value_counts(cuts)\n",
    "\n",
    "ranges = a.index.categories\n",
    "\n",
    "# Discretizing Fare Price according to the quantiles\n",
    "for i,row in train.iterrows():\n",
    "    if row['Age'] in ranges[0]:\n",
    "        train.set_value(i, 'AgeCategory', 0)\n",
    "    elif row['Age'] in ranges[1]:\n",
    "        train.set_value(i, 'AgeCategory', 1)\n",
    "    elif row['Age'] in ranges[2]:\n",
    "        train.set_value(i, 'AgeCategory', 2)\n",
    "    else:\n",
    "        train.set_value(i, 'AgeCategory', 3)\n"
   ]
  },
  {
   "cell_type": "markdown",
   "metadata": {},
   "source": [
    "- Now let us compare survival status and Pclass"
   ]
  },
  {
   "cell_type": "code",
   "execution_count": 107,
   "metadata": {},
   "outputs": [
    {
     "name": "stderr",
     "output_type": "stream",
     "text": [
      "C:\\Users\\Admin\\AppData\\Local\\Programs\\Python\\Python36\\lib\\site-packages\\numpy\\core\\fromnumeric.py:57: FutureWarning: reshape is deprecated and will raise in a subsequent release. Please use .values.reshape(...) instead\n  return getattr(obj, method)(*args, **kwds)\n"
     ]
    },
    {
     "data": {
      "image/png": "[encoded data removed]",
      "text/plain": [
       "<matplotlib.figure.Figure at 0x1e99499e6d8>"
      ]
     },
     "metadata": {},
     "output_type": "display_data"
    }
   ],
   "source": [
    "plt.hist([train[train['Survived'] == 1]['Pclass'].dropna(), train[train['Survived'] == 0]['Pclass'].dropna()], \n",
    "         color=['b', 'r'],\n",
    "         label=['Survived', 'Not Survived'],\n",
    "         histtype='bar', \n",
    "         stacked=False)\n",
    "plt.legend()\n",
    "plt.title(\"Pclass & Survival\")\n",
    "plt.show()"
   ]
  },
  {
   "cell_type": "markdown",
   "metadata": {},
   "source": [
    "- In the above diagram we can clearly see that the first class passengers have a higher probabitlity to survive whereas the third class passengers have a lower chances to survive.\n",
    "- Hence, Pclass is an important feature to predict survival status"
   ]
  },
  {
   "cell_type": "markdown",
   "metadata": {},
   "source": [
    "### Similarily let us plot histograms for Sex, Embarked feature\n",
    "\n",
    "- In order to plot histograms for sex and embarked feature we need to convert them into numerical values.\n",
    "- For Sex feature, we will allot 1 for Male and 2 for Female.\n",
    "- For Embarked feature, we will allot 1 for S, 2 for C and 3 for Q\n",
    "- But before we convert it we must remove NaN values from the Embarked column. We will assign the most occurring embarking point to the Nan values assuming the fact that there is high probability for the passengers to embark from high density emabarking point."
   ]
  },
  {
   "cell_type": "code",
   "execution_count": 108,
   "metadata": {},
   "outputs": [
    {
     "data": {
      "text/plain": [
       "count     889\nunique      3\ntop         S\nfreq      644\nName: Embarked, dtype: object"
      ]
     },
     "execution_count": 108,
     "metadata": {},
     "output_type": "execute_result"
    }
   ],
   "source": [
    "# Finding the most occurring embarking point in the list\n",
    "train['Embarked'].describe()"
   ]
  },
  {
   "cell_type": "markdown",
   "metadata": {},
   "source": [
    "- It is clear from the 'top' parameter in the description that 'S' is the most occuring value"
   ]
  },
  {
   "cell_type": "code",
   "execution_count": 109,
   "metadata": {},
   "outputs": [],
   "source": [
    "# Filling NaN values of Embarked with 'S'\n",
    "train['Embarked'] = train['Embarked'].fillna('S')\n",
    "\n",
    "# Converting Sex and Embarked values into integers\n",
    "train['Sex'] = train['Sex'].map({'male':1, 'female':2}).astype(int) \n",
    "train['Embarked'] = train['Embarked'].map({'S': 1, 'C': 2,'Q': 3}).astype(int)"
   ]
  },
  {
   "cell_type": "code",
   "execution_count": 110,
   "metadata": {},
   "outputs": [
    {
     "name": "stderr",
     "output_type": "stream",
     "text": [
      "C:\\Users\\Admin\\AppData\\Local\\Programs\\Python\\Python36\\lib\\site-packages\\numpy\\core\\fromnumeric.py:57: FutureWarning: reshape is deprecated and will raise in a subsequent release. Please use .values.reshape(...) instead\n  return getattr(obj, method)(*args, **kwds)\n"
     ]
    },
    {
     "data": {
      "image/png": "[encoded data removed]",
      "text/plain": [
       "<matplotlib.figure.Figure at 0x1e9949fe3c8>"
      ]
     },
     "metadata": {},
     "output_type": "display_data"
    },
    {
     "data": {
      "image/png": "[encoded data removed]",
      "text/plain": [
       "<matplotlib.figure.Figure at 0x1e994accbe0>"
      ]
     },
     "metadata": {},
     "output_type": "display_data"
    }
   ],
   "source": [
    "plt.hist([train[train['Survived'] == 1]['Sex'].dropna(), train[train['Survived'] == 0]['Sex'].dropna()], \n",
    "         color=['b', 'r'],\n",
    "         label=['Survived', 'Not Survived'],\n",
    "         histtype='bar',\n",
    "         stacked=False)\n",
    "plt.title('Sex & Survival')\n",
    "plt.legend()\n",
    "plt.show()\n",
    "\n",
    "\n",
    "plt.hist([train[train['Survived'] == 1]['Embarked'].dropna(), train[train['Survived'] == 0]['Embarked'].dropna()], \n",
    "         color=['b', 'r'], \n",
    "         label = ['Survived', 'Not Survived'],\n",
    "         histtype='bar',\n",
    "         stacked=False)\n",
    "plt.title('Embarked & Survival')\n",
    "plt.legend()\n",
    "plt.show()"
   ]
  },
  {
   "cell_type": "markdown",
   "metadata": {},
   "source": [
    "- The above graphs clearly show there is a strong relation between both sex and embarked value with the survival status. Hence, we keep both of the features"
   ]
  },
  {
   "cell_type": "markdown",
   "metadata": {},
   "source": [
    "### Now, we will consider SibSp (# Siblings/Spouse) and Parch ( # Parents/Children)"
   ]
  },
  {
   "cell_type": "code",
   "execution_count": 111,
   "metadata": {},
   "outputs": [
    {
     "name": "stderr",
     "output_type": "stream",
     "text": [
      "C:\\Users\\Admin\\AppData\\Local\\Programs\\Python\\Python36\\lib\\site-packages\\numpy\\core\\fromnumeric.py:57: FutureWarning: reshape is deprecated and will raise in a subsequent release. Please use .values.reshape(...) instead\n  return getattr(obj, method)(*args, **kwds)\n"
     ]
    },
    {
     "data": {
      "image/png": "[encoded data removed]",
      "text/plain": [
       "<matplotlib.figure.Figure at 0x1e994b902b0>"
      ]
     },
     "metadata": {},
     "output_type": "display_data"
    },
    {
     "data": {
      "image/png": "[encoded data removed]",
      "text/plain": [
       "<matplotlib.figure.Figure at 0x1e994c36f98>"
      ]
     },
     "metadata": {},
     "output_type": "display_data"
    }
   ],
   "source": [
    "plt.hist([train[train['Survived'] == 1]['Parch'].dropna(), train[train['Parch'] == 0]['Embarked'].dropna()], \n",
    "         color=['b', 'r'], \n",
    "         label=['Survived', 'Not Survived'],\n",
    "         histtype='bar',\n",
    "         stacked=False)\n",
    "plt.title('Parch & Survival')\n",
    "plt.legend()\n",
    "plt.show()\n",
    "\n",
    "plt.hist([train[train['Survived'] == 1]['SibSp'].dropna(), train[train['SibSp'] == 0]['Embarked'].dropna()], \n",
    "         color=['b', 'r'], \n",
    "         label = ['Survived', 'Not Survived'],\n",
    "         histtype='bar',\n",
    "         stacked=False)\n",
    "plt.legend()\n",
    "plt.title('SibSp & Survival')\n",
    "plt.show()"
   ]
  },
  {
   "cell_type": "markdown",
   "metadata": {},
   "source": [
    "- The above graphs show us that if a passenger is travelling alone he/she has higher chances to survive. So let us now combine both the parameters i.e. SibSp and Parch into a single parameter Family Size and compare the new parameter with the survival status"
   ]
  },
  {
   "cell_type": "code",
   "execution_count": 112,
   "metadata": {},
   "outputs": [
    {
     "name": "stderr",
     "output_type": "stream",
     "text": [
      "C:\\Users\\Admin\\AppData\\Local\\Programs\\Python\\Python36\\lib\\site-packages\\numpy\\core\\fromnumeric.py:57: FutureWarning: reshape is deprecated and will raise in a subsequent release. Please use .values.reshape(...) instead\n  return getattr(obj, method)(*args, **kwds)\n"
     ]
    },
    {
     "data": {
      "image/png": "[encoded data removed]",
      "text/plain": [
       "<matplotlib.figure.Figure at 0x1e9946b7128>"
      ]
     },
     "metadata": {},
     "output_type": "display_data"
    }
   ],
   "source": [
    "# Calculating total family size of a passenger by summing up SibSp and Parch\n",
    "train['FamilySize'] = train['SibSp'] + train['Parch']\n",
    "\n",
    "# Plotting Family Size vs Survival Status\n",
    "plt.hist([train[train['Survived'] == 1]['Parch'].dropna(), train[train['Parch'] == 0]['Embarked'].dropna()], \n",
    "         color=['b', 'r'], \n",
    "         label=['Survived', 'Not Survived'],\n",
    "         histtype='bar',\n",
    "         stacked=False)\n",
    "plt.legend()\n",
    "plt.title('Family Size & Survival')\n",
    "plt.show()"
   ]
  },
  {
   "cell_type": "markdown",
   "metadata": {},
   "source": [
    "### Now the final parameter is Fare, let us analyze it"
   ]
  },
  {
   "cell_type": "markdown",
   "metadata": {},
   "source": [
    "- Fare is a numerical feature and has varying values.\n",
    "- One approach could be to discretize the values into categories. But before let us observe the histogram of the same."
   ]
  },
  {
   "cell_type": "code",
   "execution_count": 113,
   "metadata": {},
   "outputs": [
    {
     "name": "stderr",
     "output_type": "stream",
     "text": [
      "C:\\Users\\Admin\\AppData\\Local\\Programs\\Python\\Python36\\lib\\site-packages\\numpy\\core\\fromnumeric.py:57: FutureWarning: reshape is deprecated and will raise in a subsequent release. Please use .values.reshape(...) instead\n  return getattr(obj, method)(*args, **kwds)\n"
     ]
    },
    {
     "data": {
      "image/png": "[encoded data removed]",
      "text/plain": [
       "<matplotlib.figure.Figure at 0x1e9949f7f60>"
      ]
     },
     "metadata": {},
     "output_type": "display_data"
    }
   ],
   "source": [
    "plt.hist([train[train['Survived'] == 1]['Fare'].dropna(), train[train['Survived'] == 0]['Fare'].dropna()], \n",
    "         color=['b', 'r'], \n",
    "         histtype='bar',\n",
    "         label = ['Survived', 'Not Survived'],\n",
    "         stacked=False)\n",
    "plt.legend()\n",
    "plt.title('Fare. Survival')\n",
    "plt.show()"
   ]
  },
  {
   "cell_type": "markdown",
   "metadata": {},
   "source": [
    "- Passengers paying lower fares had a low chances of survival. Hence there is some relation between fare and survival. Let us discretize into 6 buckets using the function qcut()"
   ]
  },
  {
   "cell_type": "code",
   "execution_count": 114,
   "metadata": {},
   "outputs": [],
   "source": [
    "# Finding quantile ranges for Fare\n",
    "cuts = pd.qcut(train['Fare'], 4)\n",
    "a = pd.value_counts(cuts)\n",
    "\n",
    "ranges = a.index.categories\n",
    "\n",
    "# Discretizing Fare Price according to the quantiles\n",
    "for i,row in train.iterrows():\n",
    "    if row['Fare'] in ranges[0]:\n",
    "        train.set_value(i, 'FareCategory', 0)\n",
    "    elif row['Fare'] in ranges[1]:\n",
    "        train.set_value(i, 'FareCategory', 1)\n",
    "    elif row['Fare'] in ranges[2]:\n",
    "        train.set_value(i, 'FareCategory', 2)\n",
    "    else:\n",
    "        train.set_value(i, 'FareCategory', 3)\n"
   ]
  },
  {
   "cell_type": "markdown",
   "metadata": {},
   "source": [
    "- As we do not require the Fare, Age, SibSp and Parch feature we will drop the column and now we have the final set of features and labels ready to be trained"
   ]
  },
  {
   "cell_type": "code",
   "execution_count": 115,
   "metadata": {},
   "outputs": [
    {
     "data": {
      "text/html": [
       "<div>\n",
       "<style>\n",
       "    .dataframe thead tr:only-child th {\n",
       "        text-align: right;\n",
       "    }\n",
       "\n",
       "    .dataframe thead th {\n",
       "        text-align: left;\n",
       "    }\n",
       "\n",
       "    .dataframe tbody tr th {\n",
       "        vertical-align: top;\n",
       "    }\n",
       "</style>\n",
       "<table border=\"1\" class=\"dataframe\">\n",
       "  <thead>\n",
       "    <tr style=\"text-align: right;\">\n",
       "      <th></th>\n",
       "      <th>Survived</th>\n",
       "      <th>Pclass</th>\n",
       "      <th>Sex</th>\n",
       "      <th>Embarked</th>\n",
       "      <th>AgeCategory</th>\n",
       "      <th>FamilySize</th>\n",
       "      <th>FareCategory</th>\n",
       "    </tr>\n",
       "  </thead>\n",
       "  <tbody>\n",
       "    <tr>\n",
       "      <th>886</th>\n",
       "      <td>0</td>\n",
       "      <td>2</td>\n",
       "      <td>1</td>\n",
       "      <td>1</td>\n",
       "      <td>2.0</td>\n",
       "      <td>0</td>\n",
       "      <td>1.0</td>\n",
       "    </tr>\n",
       "    <tr>\n",
       "      <th>887</th>\n",
       "      <td>1</td>\n",
       "      <td>1</td>\n",
       "      <td>2</td>\n",
       "      <td>1</td>\n",
       "      <td>1.0</td>\n",
       "      <td>0</td>\n",
       "      <td>2.0</td>\n",
       "    </tr>\n",
       "    <tr>\n",
       "      <th>888</th>\n",
       "      <td>0</td>\n",
       "      <td>3</td>\n",
       "      <td>2</td>\n",
       "      <td>1</td>\n",
       "      <td>2.0</td>\n",
       "      <td>3</td>\n",
       "      <td>2.0</td>\n",
       "    </tr>\n",
       "    <tr>\n",
       "      <th>889</th>\n",
       "      <td>1</td>\n",
       "      <td>1</td>\n",
       "      <td>1</td>\n",
       "      <td>2</td>\n",
       "      <td>2.0</td>\n",
       "      <td>0</td>\n",
       "      <td>2.0</td>\n",
       "    </tr>\n",
       "    <tr>\n",
       "      <th>890</th>\n",
       "      <td>0</td>\n",
       "      <td>3</td>\n",
       "      <td>1</td>\n",
       "      <td>3</td>\n",
       "      <td>2.0</td>\n",
       "      <td>0</td>\n",
       "      <td>0.0</td>\n",
       "    </tr>\n",
       "  </tbody>\n",
       "</table>\n",
       "</div>"
      ],
      "text/plain": [
       "<div>\n",
       "<style>\n",
       "    .dataframe thead tr:only-child th {\n",
       "        text-align: right;\n",
       "    }\n",
       "\n",
       "    .dataframe thead th {\n",
       "        text-align: left;\n",
       "    }\n",
       "\n",
       "    .dataframe tbody tr th {\n",
       "        vertical-align: top;\n",
       "    }\n",
       "</style>\n",
       "<table border=\"1\" class=\"dataframe\">\n",
       "  <thead>\n",
       "    <tr style=\"text-align: right;\">\n",
       "      <th></th>\n",
       "      <th>Survived</th>\n",
       "      <th>Pclass</th>\n",
       "      <th>Sex</th>\n",
       "      <th>Embarked</th>\n",
       "      <th>AgeCategory</th>\n",
       "      <th>FamilySize</th>\n",
       "      <th>FareCategory</th>\n",
       "    </tr>\n",
       "  </thead>\n",
       "  <tbody>\n",
       "    <tr>\n",
       "      <th>886</th>\n",
       "      <td>0</td>\n",
       "      <td>2</td>\n",
       "      <td>1</td>\n",
       "      <td>1</td>\n",
       "      <td>2.0</td>\n",
       "      <td>0</td>\n",
       "      <td>1.0</td>\n",
       "    </tr>\n",
       "    <tr>\n",
       "      <th>887</th>\n",
       "      <td>1</td>\n",
       "      <td>1</td>\n",
       "      <td>2</td>\n",
       "      <td>1</td>\n",
       "      <td>1.0</td>\n",
       "      <td>0</td>\n",
       "      <td>2.0</td>\n",
       "    </tr>\n",
       "    <tr>\n",
       "      <th>888</th>\n",
       "      <td>0</td>\n",
       "      <td>3</td>\n",
       "      <td>2</td>\n",
       "      <td>1</td>\n",
       "      <td>2.0</td>\n",
       "      <td>3</td>\n",
       "      <td>2.0</td>\n",
       "    </tr>\n",
       "    <tr>\n",
       "      <th>889</th>\n",
       "      <td>1</td>\n",
       "      <td>1</td>\n",
       "      <td>1</td>\n",
       "      <td>2</td>\n",
       "      <td>2.0</td>\n",
       "      <td>0</td>\n",
       "      <td>2.0</td>\n",
       "    </tr>\n",
       "    <tr>\n",
       "      <th>890</th>\n",
       "      <td>0</td>\n",
       "      <td>3</td>\n",
       "      <td>1</td>\n",
       "      <td>3</td>\n",
       "      <td>2.0</td>\n",
       "      <td>0</td>\n",
       "      <td>0.0</td>\n",
       "    </tr>\n",
       "  </tbody>\n",
       "</table>\n",
       "</div>"
      ]
     },
     "execution_count": 115,
     "metadata": {},
     "output_type": "execute_result"
    }
   ],
   "source": [
    "train = train.drop(['Fare', 'SibSp', 'Parch', 'Age'], 1)\n",
    "train.tail()"
   ]
  },
  {
   "cell_type": "markdown",
   "metadata": {},
   "source": [
    "- In the above dataset our features and labels are as follows:\n",
    "\t\n",
    "\t**Features**\n",
    "\t- Pclass\n",
    "\t- Sex\n",
    "\t- Age\n",
    "\t- Embarked\n",
    "\t- FamilySize\n",
    "\t- FareCategory\n",
    "\n",
    "\t**Labels**\n",
    "\t- Survived"
   ]
  },
  {
   "cell_type": "markdown",
   "metadata": {},
   "source": [
    "## Training the model using SVC"
   ]
  },
  {
   "cell_type": "code",
   "execution_count": 116,
   "metadata": {},
   "outputs": [],
   "source": [
    "# Separating Features and Labels\n",
    "\n",
    "labels = train['Survived'].values\n",
    "features = train[['Pclass', 'Sex', 'AgeCategory', 'FamilySize', 'Embarked', 'FareCategory']].values"
   ]
  },
  {
   "cell_type": "code",
   "execution_count": 117,
   "metadata": {},
   "outputs": [],
   "source": [
    "# Splitting training dataset into testing and training set\n",
    "X_train, X_test, y_train, y_test = train_test_split(features, labels, test_size=0.33, shuffle=True)\n",
    "\n"
   ]
  },
  {
   "cell_type": "code",
   "execution_count": 118,
   "metadata": {},
   "outputs": [
    {
     "name": "stdout",
     "output_type": "stream",
     "text": [
      "SVC\nAccuracy: 0.823728813559\n----------------------------------------------------------------\nK Nearest Neighbours\nAccuracy: 0.776271186441\n----------------------------------------------------------------\nDecision Tree\nAccuracy: 0.816949152542\n\n----------------------------------------------------------------\nRandom Forest\nAccuracy: 0.779661016949\n\n----------------------------------------------------------------\n"
     ]
    }
   ],
   "source": [
    "# Implementing various models to train the model\n",
    "\n",
    "## Implementing SVC\n",
    "\n",
    "model_a =SVC()\n",
    "\n",
    "model_a.fit(X_train, y_train)\n",
    "\n",
    "# Testing model\n",
    "print(\"SVC\")\n",
    "print('Accuracy:', model_a.score(X_test, y_test))\n",
    "print('----------------------------------------------------------------')\n",
    "\n",
    "## Implementing K Nearest Neighbours\n",
    "\n",
    "model_b = KNeighborsClassifier(n_neighbors=5)\n",
    "\n",
    "model_b.fit(X_train, y_train)\n",
    "\n",
    "# Testing model\n",
    "print(\"K Nearest Neighbours\")\n",
    "print('Accuracy:', model_b.score(X_test, y_test))\n",
    "print('----------------------------------------------------------------')\n",
    "\n",
    "## Implementing Decision Tree\n",
    "\n",
    "model_c =DecisionTreeClassifier()\n",
    "\n",
    "model_c.fit(X_train, y_train)\n",
    "\n",
    "# Testing model\n",
    "print(\"Decision Tree\")\n",
    "print('Accuracy:', model_c.score(X_test, y_test))\n",
    "print()\n",
    "print('----------------------------------------------------------------')\n",
    "\n",
    "## Implementing Random Forest\n",
    "\n",
    "model_d = RandomForestClassifier(n_estimators=15)\n",
    "\n",
    "model_d.fit(X_train, y_train)\n",
    "\n",
    "# Testing model\n",
    "print(\"Random Forest\")\n",
    "print('Accuracy:', model_d.score(X_test, y_test))\n",
    "print()\n",
    "print('----------------------------------------------------------------')\n"
   ]
  },
  {
   "cell_type": "markdown",
   "metadata": {},
   "source": [
    "- As **SVC** performs best amongst the others, we choose SVC for our problem"
   ]
  },
  {
   "cell_type": "markdown",
   "metadata": {},
   "source": [
    "## Converting the test data provided for the competetion in the appropriate format for our model"
   ]
  },
  {
   "cell_type": "code",
   "execution_count": 119,
   "metadata": {},
   "outputs": [
    {
     "name": "stdout",
     "output_type": "stream",
     "text": [
      "PassengerId      0\nPclass           0\nName             0\nSex              0\nAge             86\nSibSp            0\nParch            0\nTicket           0\nFare             1\nCabin          327\nEmbarked         0\ndtype: int64\n"
     ]
    }
   ],
   "source": [
    "test = pd.read_csv('test.csv', na_values=['NaN'])\n",
    "test_pid = test['PassengerId']\n",
    "print(test.isnull().sum())\n"
   ]
  },
  {
   "cell_type": "markdown",
   "metadata": {},
   "source": [
    "- As we can see the test data has Nan value in the Fare column, we will assign a random fare value between the minium and maximum fare"
   ]
  },
  {
   "cell_type": "code",
   "execution_count": 120,
   "metadata": {},
   "outputs": [],
   "source": [
    "min_fare = ranges[0].left\n",
    "max_fare = ranges[3].right\n",
    "\n",
    "for i,row in test.iterrows():\n",
    "    if math.isnan(row['Fare']):\n",
    "        test.set_value(i, 'Fare', random.randint(min_age, max_age))"
   ]
  },
  {
   "cell_type": "code",
   "execution_count": 121,
   "metadata": {},
   "outputs": [
    {
     "data": {
      "text/html": [
       "<div>\n",
       "<style>\n",
       "    .dataframe thead tr:only-child th {\n",
       "        text-align: right;\n",
       "    }\n",
       "\n",
       "    .dataframe thead th {\n",
       "        text-align: left;\n",
       "    }\n",
       "\n",
       "    .dataframe tbody tr th {\n",
       "        vertical-align: top;\n",
       "    }\n",
       "</style>\n",
       "<table border=\"1\" class=\"dataframe\">\n",
       "  <thead>\n",
       "    <tr style=\"text-align: right;\">\n",
       "      <th></th>\n",
       "      <th>Pclass</th>\n",
       "      <th>Sex</th>\n",
       "      <th>Embarked</th>\n",
       "      <th>FamilySize</th>\n",
       "      <th>FareCategory</th>\n",
       "      <th>AgeCategory</th>\n",
       "    </tr>\n",
       "  </thead>\n",
       "  <tbody>\n",
       "    <tr>\n",
       "      <th>413</th>\n",
       "      <td>3</td>\n",
       "      <td>1</td>\n",
       "      <td>1</td>\n",
       "      <td>0</td>\n",
       "      <td>1.0</td>\n",
       "      <td>2.0</td>\n",
       "    </tr>\n",
       "    <tr>\n",
       "      <th>414</th>\n",
       "      <td>1</td>\n",
       "      <td>2</td>\n",
       "      <td>2</td>\n",
       "      <td>0</td>\n",
       "      <td>3.0</td>\n",
       "      <td>3.0</td>\n",
       "    </tr>\n",
       "    <tr>\n",
       "      <th>415</th>\n",
       "      <td>3</td>\n",
       "      <td>1</td>\n",
       "      <td>1</td>\n",
       "      <td>0</td>\n",
       "      <td>0.0</td>\n",
       "      <td>3.0</td>\n",
       "    </tr>\n",
       "    <tr>\n",
       "      <th>416</th>\n",
       "      <td>3</td>\n",
       "      <td>1</td>\n",
       "      <td>1</td>\n",
       "      <td>0</td>\n",
       "      <td>1.0</td>\n",
       "      <td>3.0</td>\n",
       "    </tr>\n",
       "    <tr>\n",
       "      <th>417</th>\n",
       "      <td>3</td>\n",
       "      <td>1</td>\n",
       "      <td>2</td>\n",
       "      <td>2</td>\n",
       "      <td>2.0</td>\n",
       "      <td>3.0</td>\n",
       "    </tr>\n",
       "  </tbody>\n",
       "</table>\n",
       "</div>"
      ],
      "text/plain": [
       "<div>\n",
       "<style>\n",
       "    .dataframe thead tr:only-child th {\n",
       "        text-align: right;\n",
       "    }\n",
       "\n",
       "    .dataframe thead th {\n",
       "        text-align: left;\n",
       "    }\n",
       "\n",
       "    .dataframe tbody tr th {\n",
       "        vertical-align: top;\n",
       "    }\n",
       "</style>\n",
       "<table border=\"1\" class=\"dataframe\">\n",
       "  <thead>\n",
       "    <tr style=\"text-align: right;\">\n",
       "      <th></th>\n",
       "      <th>Pclass</th>\n",
       "      <th>Sex</th>\n",
       "      <th>Embarked</th>\n",
       "      <th>FamilySize</th>\n",
       "      <th>FareCategory</th>\n",
       "      <th>AgeCategory</th>\n",
       "    </tr>\n",
       "  </thead>\n",
       "  <tbody>\n",
       "    <tr>\n",
       "      <th>413</th>\n",
       "      <td>3</td>\n",
       "      <td>1</td>\n",
       "      <td>1</td>\n",
       "      <td>0</td>\n",
       "      <td>1.0</td>\n",
       "      <td>2.0</td>\n",
       "    </tr>\n",
       "    <tr>\n",
       "      <th>414</th>\n",
       "      <td>1</td>\n",
       "      <td>2</td>\n",
       "      <td>2</td>\n",
       "      <td>0</td>\n",
       "      <td>3.0</td>\n",
       "      <td>3.0</td>\n",
       "    </tr>\n",
       "    <tr>\n",
       "      <th>415</th>\n",
       "      <td>3</td>\n",
       "      <td>1</td>\n",
       "      <td>1</td>\n",
       "      <td>0</td>\n",
       "      <td>0.0</td>\n",
       "      <td>3.0</td>\n",
       "    </tr>\n",
       "    <tr>\n",
       "      <th>416</th>\n",
       "      <td>3</td>\n",
       "      <td>1</td>\n",
       "      <td>1</td>\n",
       "      <td>0</td>\n",
       "      <td>1.0</td>\n",
       "      <td>3.0</td>\n",
       "    </tr>\n",
       "    <tr>\n",
       "      <th>417</th>\n",
       "      <td>3</td>\n",
       "      <td>1</td>\n",
       "      <td>2</td>\n",
       "      <td>2</td>\n",
       "      <td>2.0</td>\n",
       "      <td>3.0</td>\n",
       "    </tr>\n",
       "  </tbody>\n",
       "</table>\n",
       "</div>"
      ]
     },
     "execution_count": 121,
     "metadata": {},
     "output_type": "execute_result"
    }
   ],
   "source": [
    "# Eliminating NaN values from Age column\n",
    "for i,row in test.iterrows():\n",
    "    if math.isnan(row['Age']):\n",
    "        test.set_value(i, 'Age', random.randint(min_age, max_age))\n",
    "\n",
    "# Filling NaN values of Embarked with 'S'\n",
    "test['Embarked'] = test['Embarked'].fillna('S')\n",
    "\n",
    "# Converting Sex and Embarked values into integers\n",
    "test['Sex'] = test['Sex'].map({'male':1, 'female':2}).astype(int) \n",
    "test['Embarked'] = test['Embarked'].map({'S': 1, 'C': 2,'Q': 3}).astype(int)\n",
    "\n",
    "# Calculating total family size of a passenger by summing up SibSp and Parch\n",
    "test['FamilySize'] = test['SibSp'] + test['Parch']\n",
    "\n",
    "# Discretizing Fare Price according to the quantiles\n",
    "for i,row in test.iterrows():\n",
    "    if int(row['Fare']) in ranges[0]:\n",
    "        test.set_value(i, 'FareCategory', 0)\n",
    "    elif row['Fare'] in ranges[1]:\n",
    "        test.set_value(i, 'FareCategory', 1)\n",
    "    elif row['Fare'] in ranges[2]:\n",
    "        test.set_value(i, 'FareCategory', 2)\n",
    "    else:\n",
    "        test.set_value(i, 'FareCategory', 3)\n",
    "\n",
    "# Discretizing Age \n",
    "for i,row in test.iterrows():\n",
    "    if row['Age'] in ranges[0]:\n",
    "        test.set_value(i, 'AgeCategory', 0)\n",
    "    elif row['Age'] in ranges[1]:\n",
    "        test.set_value(i, 'AgeCategory', 1)\n",
    "    elif row['Age'] in ranges[2]:\n",
    "        test.set_value(i, 'AgeCategory', 2)\n",
    "    else:\n",
    "        test.set_value(i, 'AgeCategory', 3)\n",
    "        \n",
    "test = test.drop(['PassengerId', 'Name', 'Ticket', 'Cabin', 'SibSp', 'Parch', 'Fare', 'Age'], 1)\n",
    "\n",
    "test.tail()"
   ]
  },
  {
   "cell_type": "markdown",
   "metadata": {},
   "source": [
    "## Writing Output"
   ]
  },
  {
   "cell_type": "code",
   "execution_count": 122,
   "metadata": {},
   "outputs": [],
   "source": [
    "import csv\n",
    "import numpy as np\n",
    "\n",
    "features = test[['Pclass', 'Sex', 'AgeCategory', 'FamilySize', 'Embarked', 'FareCategory']].values\n",
    "\n",
    "result = model_a.predict(features)\n",
    "\n",
    "\n",
    "data = np.transpose(np.vstack((test_pid, result)))\n",
    "\n",
    "with open('result.csv', 'w', newline='') as f:\n",
    "    writer = csv.writer(f)\n",
    "\n",
    "    writer.writerows([['PassengerId', 'Survived']])\n",
    "    writer.writerows(data)\n"
   ]
  },
  {
   "cell_type": "code",
   "execution_count": 43,
   "metadata": {},
   "outputs": [],
   "source": []
  },
  {
   "cell_type": "code",
   "execution_count": 43,
   "metadata": {},
   "outputs": [],
   "source": []
  },
  {
   "cell_type": "code",
   "execution_count": null,
   "metadata": {},
   "outputs": [],
   "source": []
  }
 ],
 "metadata": {
  "kernelspec": {
   "display_name": "Python 2",
   "language": "python",
   "name": "python2"
  },
  "language_info": {
   "codemirror_mode": {
    "name": "ipython",
    "version": 2
   },
   "file_extension": ".py",
   "mimetype": "text/x-python",
   "name": "python",
   "nbconvert_exporter": "python",
   "pygments_lexer": "ipython2",
   "version": "2.7.6"
  }
 },
 "nbformat": 4,
 "nbformat_minor": 0
}
